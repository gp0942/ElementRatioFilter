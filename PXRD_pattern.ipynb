{
 "cells": [
  {
   "cell_type": "code",
   "execution_count": 29,
   "metadata": {},
   "outputs": [],
   "source": [
    "# import libraries\n",
    "import pandas as pd\n",
    "import matplotlib.pyplot as plt\n",
    "from matplotlib.pyplot import figure"
   ]
  },
  {
   "cell_type": "code",
   "execution_count": 111,
   "metadata": {
    "scrolled": false
   },
   "outputs": [
    {
     "data": {
      "image/png": "[encoded data removed]",
      "text/plain": [
       "<Figure size 1080x36 with 1 Axes>"
      ]
     },
     "metadata": {},
     "output_type": "display_data"
    }
   ],
   "source": [
    "# define file name, and angle limits of pattern\n",
    "file = 'GPNdAuGe-62pct'\n",
    "xmin,xmax = 0,90\n",
    "\n",
    "df2 = pd.DataFrame([[xmin,0],[xmax,0]],columns=['Angle','Int'])\n",
    "df = pd.read_excel(f'{file}.xlsx')\n",
    "df = df.append(df2,sort=False)\n",
    "df = df.sort_values(['Angle']).reset_index(drop=True)\n",
    "df['Int'] = df['Int']/1000\n",
    "\n",
    "figure(figsize=(15,0.5))\n",
    "for i,xval in enumerate(df['Angle']):\n",
    "    plt.axvline(xval,\n",
    "                alpha = df['Int'].iloc[i]/10,\n",
    "#                lw = df['Int'].iloc[i]*3,\n",
    "                c='black')\n",
    "plt.ylabel(ylabel='')\n",
    "plt.yticks(ticks=[])\n",
    "plt.xticks(ticks=[])\n",
    "plt.xlim([xmin,xmax])\n",
    "plt.savefig(f'figures/{file}.svg')"
   ]
  }
 ],
 "metadata": {
  "kernelspec": {
   "display_name": "Python 3",
   "language": "python",
   "name": "python3"
  },
  "language_info": {
   "codemirror_mode": {
    "name": "ipython",
    "version": 3
   },
   "file_extension": ".py",
   "mimetype": "text/x-python",
   "name": "python",
   "nbconvert_exporter": "python",
   "pygments_lexer": "ipython3",
   "version": "3.7.6"
  }
 },
 "nbformat": 4,
 "nbformat_minor": 4
}
